{
 "cells": [
  {
   "cell_type": "markdown",
   "id": "019914f0-812b-4bee-9b6e-9ee5063ba9e0",
   "metadata": {},
   "source": [
    "Question 1-\n",
    "Given an integer array nums of 2n integers, group these integers into n pairs (a1, b1), (a2, b2),..., (an, bn) such that the sum of min(ai, bi) for all i is maximized. Return the maximized sum.\n",
    "\n",
    "Ans--"
   ]
  },
  {
   "cell_type": "markdown",
   "id": "8714d978-7d80-4bce-97c6-0c344274a528",
   "metadata": {},
   "source": [
    "To maximize the sum of the minimum values in each pair, we should pair the integers in such a way that the difference between the paired integers is minimized. This way, we can ensure that the smaller values are paired together, resulting in a larger sum.\n",
    "\n",
    "Here's an example of how you can solve this problem using Python:"
   ]
  },
  {
   "cell_type": "code",
   "execution_count": 2,
   "id": "36cbfe42-55c7-4d34-9c0f-08dbf23c056e",
   "metadata": {},
   "outputs": [],
   "source": [
    "def array_pair_sum(nums):\n",
    "    nums.sort()  # Sort the array in ascending order\n",
    "    max_sum = 0\n",
    "    \n",
    "    # Iterate through the sorted array, skipping one element at a time\n",
    "    for i in range(0, len(nums), 2):\n",
    "        max_sum += nums[i]  # Add the smaller value in each pair to the max_sum\n",
    "    \n",
    "    return max_sum\n"
   ]
  },
  {
   "cell_type": "markdown",
   "id": "d1a1300e-0054-407c-b2a7-6f00bd2ac76d",
   "metadata": {},
   "source": [
    "Here's how the function works:\n",
    "\n",
    "1.Sort the input array nums in ascending order.\n",
    "\n",
    "2.Initialize a variable max_sum to store the maximum sum of minimum values.\n",
    "\n",
    "3.Iterate through the sorted array nums in steps of 2, starting from index 0.\n",
    "\n",
    "4.Add the value at index i to max_sum since it represents the smaller value in each pair.\n",
    "\n",
    "5.Finally, return the max_sum.\n",
    "\n",
    "By pairing the integers and summing the smaller values, we maximize the overall sum. This approach works because sorting the array allows us to pair adjacent elements, guaranteeing that the smaller values are chosen.\n",
    "\n",
    "You can use the array_pair_sum function like this:"
   ]
  },
  {
   "cell_type": "code",
   "execution_count": 3,
   "id": "a453cf55-0ea6-434b-8fed-d8f53fa92ae5",
   "metadata": {},
   "outputs": [
    {
     "name": "stdout",
     "output_type": "stream",
     "text": [
      "4\n"
     ]
    }
   ],
   "source": [
    "nums = [1, 4, 3, 2]\n",
    "maximized_sum = array_pair_sum(nums)\n",
    "print(maximized_sum)\n"
   ]
  },
  {
   "cell_type": "markdown",
   "id": "87a215ab-f0b9-4f4b-8850-52ce0e2d2faa",
   "metadata": {},
   "source": [
    "In this example, the array [1, 4, 3, 2] can be paired as [(1, 2), (3, 4)]. The minimum values in each pair are 1 and 3, resulting in a maximized sum of 4."
   ]
  },
  {
   "cell_type": "markdown",
   "id": "f262f6fe-5bf3-4318-ba24-683c4fed91c1",
   "metadata": {},
   "source": [
    "Question 2-\n",
    "Alice has n candies, where the ith candy is of type candyType[i]. Alice noticed that she started to gain weight, so she visited a doctor. \n",
    "\n",
    "The doctor advised Alice to only eat n / 2 of the candies she has (n is always even). Alice likes her candies very much, and she wants to eat the maximum number of different types of candies while still following the doctor's advice. \n",
    "\n",
    "Given the integer array candyType of length n, return the maximum number of different types of candies she can eat if she only eats n / 2 of them.\n",
    "\n",
    "Ans--"
   ]
  },
  {
   "cell_type": "markdown",
   "id": "abf10160-7587-4e6c-a7c5-e36c885aa5df",
   "metadata": {},
   "source": [
    "To find the maximum number of different types of candies Alice can eat while following the doctor's advice, we need to determine the total number of unique candy types and compare it to half of the total number of candies.\n",
    "\n",
    "Here's an example of how you can solve this problem using Python:"
   ]
  },
  {
   "cell_type": "code",
   "execution_count": 4,
   "id": "0d05ff38-347d-4863-9469-37d0a0877346",
   "metadata": {},
   "outputs": [],
   "source": [
    "def max_candies(candyType):\n",
    "    unique_types = len(set(candyType))  # Count the number of unique candy types\n",
    "    max_candies = min(unique_types, len(candyType) // 2)  # Take the minimum of unique types and half of the total candies\n",
    "    return max_candies\n"
   ]
  },
  {
   "cell_type": "markdown",
   "id": "f2ed3434-b299-4248-8922-0f405c3da600",
   "metadata": {},
   "source": [
    "Here's how the function works:\n",
    "\n",
    "1.Calculate the number of unique candy types by converting the candyType list to a set and finding its length.\n",
    "\n",
    "2.Calculate max_candies by taking the minimum of the number of unique types and half of the total number of candies (len(candyType) // 2).\n",
    "\n",
    "3.Return max_candies.\n",
    "\n",
    "By taking the minimum of the unique types and half of the total candies, we ensure that Alice eats the maximum number of different types while still following the doctor's advice.\n",
    "\n",
    "You can use the max_candies function like this:"
   ]
  },
  {
   "cell_type": "code",
   "execution_count": 5,
   "id": "d32723c1-c018-4cb2-93bc-fee431d5423c",
   "metadata": {},
   "outputs": [
    {
     "name": "stdout",
     "output_type": "stream",
     "text": [
      "3\n"
     ]
    }
   ],
   "source": [
    "candyType = [1, 1, 2, 2, 3, 3]\n",
    "max_types = max_candies(candyType)\n",
    "print(max_types)"
   ]
  },
  {
   "cell_type": "markdown",
   "id": "168213d6-b8e1-413f-87f0-09cab4dbaa64",
   "metadata": {},
   "source": [
    "In this example, Alice has 6 candies with types [1, 1, 2, 2, 3, 3]. Since she can only eat half of them (i.e., 3 candies), the maximum number of different types she can eat is 3."
   ]
  },
  {
   "cell_type": "markdown",
   "id": "e3940890-87f6-4a6c-842c-b57a0f1078e2",
   "metadata": {},
   "source": [
    "Question 3-\n",
    "We define a harmonious array as an array where the difference between its maximum value\n",
    "and its minimum value is exactly 1.\n",
    "\n",
    "Given an integer array nums, return the length of its longest harmonious subsequence\n",
    "among all its possible subsequences.\n",
    "\n",
    "A subsequence of an array is a sequence that can be derived from the array by deleting some or no elements without changing the order of the remaining elements.\n",
    "\n",
    "Ans--"
   ]
  },
  {
   "cell_type": "markdown",
   "id": "0582884c-57a6-4ab1-ba20-0060acba57ef",
   "metadata": {},
   "source": [
    "To find the length of the longest harmonious subsequence in an array, we can iterate through the array and keep track of the frequency of each number using a dictionary.\n",
    "\n",
    "Here's an example of how you can solve this problem using Python:"
   ]
  },
  {
   "cell_type": "code",
   "execution_count": 6,
   "id": "80d967a7-b051-44f8-bc2f-52e89e609063",
   "metadata": {},
   "outputs": [],
   "source": [
    "def findLHS(nums):\n",
    "    freq = {}\n",
    "    max_length = 0\n",
    "\n",
    "    # Count the frequency of each number\n",
    "    for num in nums:\n",
    "        freq[num] = freq.get(num, 0) + 1\n",
    "\n",
    "    # Check each number in the array\n",
    "    for num in nums:\n",
    "        if num + 1 in freq:\n",
    "            length = freq[num] + freq[num + 1]\n",
    "            max_length = max(max_length, length)\n",
    "\n",
    "    return max_length\n"
   ]
  },
  {
   "cell_type": "markdown",
   "id": "ac6d1091-ea2c-4ef4-a696-4d24f4c45343",
   "metadata": {},
   "source": [
    "Here's how the function works:\n",
    "\n",
    "1.Initialize an empty dictionary freq to store the frequency of each number.\n",
    "\n",
    "2.Iterate through the nums array and count the frequency of each number using the freq dictionary.\n",
    "\n",
    "3.Iterate through the nums array again and check each number.\n",
    "\n",
    "4.If the current number (num) plus 1 exists in the freq dictionary, calculate the length of the harmonious subsequence by adding the frequency of num and the frequency of num + 1.\n",
    "\n",
    "5.Update the max_length variable with the maximum length encountered so far.\n",
    "\n",
    "6.Finally, return the max_length.\n",
    "\n",
    "The function finds the longest harmonious subsequence by checking each number in the array and comparing it with the next consecutive number.\n",
    "\n",
    "You can use the findLHS function like this:"
   ]
  },
  {
   "cell_type": "code",
   "execution_count": 7,
   "id": "f17babca-c6ef-439e-bc15-0220cdc25cfc",
   "metadata": {},
   "outputs": [
    {
     "name": "stdout",
     "output_type": "stream",
     "text": [
      "5\n"
     ]
    }
   ],
   "source": [
    "nums = [1, 3, 2, 2, 5, 2, 3, 7]\n",
    "longest_subsequence_length = findLHS(nums)\n",
    "print(longest_subsequence_length)\n"
   ]
  },
  {
   "cell_type": "markdown",
   "id": "f6956254-d485-440f-a871-6012dbade0a7",
   "metadata": {},
   "source": [
    "In this example, the longest harmonious subsequence is [3, 2, 2, 2, 3], with a length of 5."
   ]
  },
  {
   "cell_type": "markdown",
   "id": "d8dbccbd-f0ed-4aab-9a31-91d0e9b24031",
   "metadata": {},
   "source": [
    "Question 4\n",
    "You have a long flowerbed in which some of the plots are planted, and some are not.\n",
    "However, flowers cannot be planted in adjacent plots.\n",
    "Given an integer array flowerbed containing 0's and 1's, where 0 means empty and 1 means not empty, and an integer n, return true if n new flowers can be planted in the flowerbed without violating the no-adjacent-flowers rule and false otherwise.\n",
    "\n",
    "Ans--"
   ]
  },
  {
   "cell_type": "markdown",
   "id": "f28a72fc-b654-49ed-91b5-261e5ba92d0f",
   "metadata": {},
   "source": [
    "To determine whether n new flowers can be planted in a flowerbed without violating the no-adjacent-flowers rule, we can iterate through the flowerbed and check if each plot and its adjacent plots satisfy the conditions.\n",
    "\n",
    "Here's an example of how you can solve this problem using Python:"
   ]
  },
  {
   "cell_type": "code",
   "execution_count": 8,
   "id": "d0a06953-d7a7-481b-ac73-a7adbd51c558",
   "metadata": {},
   "outputs": [],
   "source": [
    "def canPlaceFlowers(flowerbed, n):\n",
    "    length = len(flowerbed)\n",
    "    count = 0\n",
    "    i = 0\n",
    "\n",
    "    while i < length:\n",
    "        # Check if the current plot and its adjacent plots satisfy the conditions\n",
    "        if flowerbed[i] == 0 and (i == 0 or flowerbed[i - 1] == 0) and (i == length - 1 or flowerbed[i + 1] == 0):\n",
    "            flowerbed[i] = 1  # Plant a flower in the current plot\n",
    "            count += 1  # Increment the count of planted flowers\n",
    "\n",
    "        if count >= n:  # If the required number of flowers is planted, return True\n",
    "            return True\n",
    "\n",
    "        i += 1\n",
    "\n",
    "    return False\n"
   ]
  },
  {
   "cell_type": "markdown",
   "id": "77a0f65c-4c51-4162-bb27-28a0f058f01e",
   "metadata": {},
   "source": [
    "Here's how the function works:\n",
    "\n",
    "1.Initialize variables length and count to store the length of the flowerbed and the count of planted flowers, respectively.\n",
    "\n",
    "2.Initialize variable i to keep track of the current index while iterating through the flowerbed.\n",
    "\n",
    "3.Iterate through the flowerbed using a while loop.\n",
    "\n",
    "4.Check if the current plot (flowerbed[i]) and its adjacent plots (flowerbed[i-1] and flowerbed[i+1]) satisfy the conditions: the current plot is empty, and both adjacent plots are either empty or outside the boundaries of the flowerbed.\n",
    "\n",
    "5.If the conditions are satisfied, plant a flower in the current plot by setting flowerbed[i] to 1 and increment the count of planted flowers (count += 1).\n",
    "\n",
    "6.Check if the required number of flowers (n) is planted. If so, return True.\n",
    "\n",
    "7.Increment i to move to the next plot in the flowerbed.\n",
    "\n",
    "8.If the loop completes without planting the required number of flowers, return False.\n",
    "\n",
    "The function checks each plot and its adjacent plots to ensure that no adjacent flowers are planted and that the required number of flowers can be planted.\n",
    "\n",
    "You can use the canPlaceFlowers function like this:"
   ]
  },
  {
   "cell_type": "code",
   "execution_count": 10,
   "id": "06998b17-d63e-4121-b2ed-28daa3440901",
   "metadata": {},
   "outputs": [
    {
     "name": "stdout",
     "output_type": "stream",
     "text": [
      "True\n"
     ]
    }
   ],
   "source": [
    "flowerbed = [1, 0, 0, 0, 1]\n",
    "n = 1\n",
    "can_plant = canPlaceFlowers(flowerbed, n)\n",
    "print(can_plant)  \n"
   ]
  },
  {
   "cell_type": "markdown",
   "id": "90158216-5e6d-456a-85e8-d113b575dd52",
   "metadata": {},
   "source": [
    "In this example, the flowerbed is [1, 0, 0, 0, 1], and we want to plant 1 new flower. We can plant a flower in the second plot without violating the no-adjacent-flowers rule, so the function returns True."
   ]
  },
  {
   "cell_type": "markdown",
   "id": "119d6c9f-b9b7-414f-b517-cd4302461c3a",
   "metadata": {},
   "source": [
    "Question 5\n",
    "Given an integer array nums, find three numbers whose product is maximum and return the maximum product.\n",
    "\n",
    "Ans--"
   ]
  },
  {
   "cell_type": "markdown",
   "id": "fd333274-64a2-4c7d-b906-25b903ebfc38",
   "metadata": {},
   "source": [
    "To find the maximum product of three numbers in an integer array, we can follow a simple approach.\n",
    "\n",
    "Here's an example of how you can solve this problem using Python:"
   ]
  },
  {
   "cell_type": "code",
   "execution_count": 11,
   "id": "f951bd32-d4c2-4515-b161-39cac1c0d660",
   "metadata": {},
   "outputs": [],
   "source": [
    "def maximumProduct(nums):\n",
    "    nums.sort()  # Sort the array in ascending order\n",
    "    n = len(nums)\n",
    "\n",
    "    # Return the maximum of two possible products:\n",
    "    # 1. Product of the last three numbers (if they are all positive or negative)\n",
    "    # 2. Product of the first two numbers and the last number (if the first two numbers are negative)\n",
    "    return max(nums[n-1] * nums[n-2] * nums[n-3], nums[0] * nums[1] * nums[n-1])\n"
   ]
  },
  {
   "cell_type": "markdown",
   "id": "2d31fd52-09b5-49d1-bbf9-266a7c73c4f2",
   "metadata": {},
   "source": [
    "Here's how the function works:\n",
    "\n",
    "1.Sort the input array nums in ascending order.\n",
    "\n",
    "2.Calculate the length of the array n.\n",
    "\n",
    "3.Return the maximum of two possible products:\n",
    "\n",
    " *The product of the last three numbers (nums[n-1] * nums[n-2] * nums[n-3]), which will give the maximum product if all the numbers are positive or negative.\n",
    "\n",
    " *The product of the first two numbers and the last number (nums[0] * nums[1] * nums[n-1]), which will give the maximum product if the first two numbers are negative.\n",
    "\n",
    "By sorting the array and considering these two cases, we can find the maximum product of three numbers.\n",
    "\n",
    "You can use the maximumProduct function like this:"
   ]
  },
  {
   "cell_type": "code",
   "execution_count": 13,
   "id": "aefcfd2e-2251-4260-9488-752fdd24761d",
   "metadata": {},
   "outputs": [
    {
     "name": "stdout",
     "output_type": "stream",
     "text": [
      "56\n"
     ]
    }
   ],
   "source": [
    "nums = [-4, -2, 1, 3, 7]\n",
    "max_product = maximumProduct(nums)\n",
    "print(max_product) \n"
   ]
  },
  {
   "cell_type": "markdown",
   "id": "ce0c11c1-225a-4171-bdfc-537150f3e9bd",
   "metadata": {},
   "source": [
    "Question 6-\n",
    "Given an array of integers nums which is sorted in ascending order, and an integer target,\n",
    "write a function to search target in nums. If target exists, then return its index. Otherwise,\n",
    "return -1.\n",
    "\n",
    "Ans--"
   ]
  },
  {
   "cell_type": "markdown",
   "id": "f48df1c1-a404-4b92-ac71-c1300a0ac1cc",
   "metadata": {},
   "source": [
    "To search for a target integer in a sorted array of integers with a runtime complexity of O(log n), we can use the binary search algorithm.\n",
    "\n",
    "Here's an example of how you can implement this algorithm in Python:"
   ]
  },
  {
   "cell_type": "code",
   "execution_count": 14,
   "id": "c6ddec0b-166b-4031-9a62-1ad712e62cf7",
   "metadata": {},
   "outputs": [],
   "source": [
    "def binarySearch(nums, target):\n",
    "    left = 0\n",
    "    right = len(nums) - 1\n",
    "\n",
    "    while left <= right:\n",
    "        mid = left + (right - left) // 2\n",
    "\n",
    "        if nums[mid] == target:\n",
    "            return mid\n",
    "        elif nums[mid] < target:\n",
    "            left = mid + 1\n",
    "        else:\n",
    "            right = mid - 1\n",
    "\n",
    "    return -1\n"
   ]
  },
  {
   "cell_type": "markdown",
   "id": "f13a99ef-3334-434e-833b-a70d6b2b30d5",
   "metadata": {},
   "source": [
    "Here's how the function works:\n",
    "\n",
    "1.Initialize the left pointer left to the beginning of the array (index 0) and the right pointer right to the end of the array (len(nums) - 1).\n",
    "\n",
    "2.While the left pointer is less than or equal to the right pointer, do the following:\n",
    "\n",
    " *Calculate the middle index mid as the average of the left and right pointers, rounded down using integer division (//).\n",
    "\n",
    " *If the value at the middle index nums[mid] is equal to the target, return the middle index mid.\n",
    "\n",
    " *If the value at the middle index nums[mid] is less than the target, update the left pointer left to mid + 1 to search the right half of the array.\n",
    "\n",
    " *If the value at the middle index nums[mid] is greater than the target, update the right pointer right to mid - 1 to search the left half of the array.\n",
    "\n",
    "3.If the target is not found after the while loop, return -1 to indicate that the target does not exist in the array.\n",
    "\n",
    "By repeatedly dividing the search range in half, the binary search algorithm achieves a runtime complexity of O(log n), where n is the size of the input array.\n",
    "\n",
    "You can use the binarySearch function like this:"
   ]
  },
  {
   "cell_type": "code",
   "execution_count": 15,
   "id": "a461542c-2621-4899-9144-0d006dc47b77",
   "metadata": {},
   "outputs": [
    {
     "name": "stdout",
     "output_type": "stream",
     "text": [
      "4\n"
     ]
    }
   ],
   "source": [
    "nums = [-1, 0, 3, 5, 9, 12]\n",
    "target = 9\n",
    "index = binarySearch(nums, target)\n",
    "print(index) \n"
   ]
  },
  {
   "cell_type": "markdown",
   "id": "162649a7-940f-432d-88ef-020f15a86324",
   "metadata": {},
   "source": [
    "In this example, the target value 9 is found at index 4 in the sorted array [-1, 0, 3, 5, 9, 12]. The function returns the index 4 as the result."
   ]
  },
  {
   "cell_type": "markdown",
   "id": "35e56c94-8200-428a-8e0b-567a661a221b",
   "metadata": {},
   "source": [
    "Question 7-\n",
    "An array is monotonic if it is either monotone increasing or monotone decreasing.\n",
    "\n",
    "An array nums is monotone increasing if for all i <= j, nums[i] <= nums[j]. An array nums is\n",
    "monotone decreasing if for all i <= j, nums[i] >= nums[j].\n",
    "\n",
    "Given an integer array nums, return true if the given array is monotonic, or false otherwise.\n",
    "\n",
    "Ans--"
   ]
  },
  {
   "cell_type": "markdown",
   "id": "eb7bed3f-f567-4749-b261-cb6d24f9b318",
   "metadata": {},
   "source": [
    "To determine whether an array is monotonic (either monotone increasing or monotone decreasing), we can iterate through the array and check if the elements satisfy the monotonicity condition.\n",
    "\n",
    "Here's an example of how you can solve this problem using Python:"
   ]
  },
  {
   "cell_type": "code",
   "execution_count": 16,
   "id": "46c2519e-578e-4b74-901b-02f0c775af08",
   "metadata": {},
   "outputs": [],
   "source": [
    "def isMonotonic(nums):\n",
    "    n = len(nums)\n",
    "    increasing = decreasing = True\n",
    "\n",
    "    for i in range(1, n):\n",
    "        if nums[i] < nums[i - 1]:\n",
    "            increasing = False\n",
    "        if nums[i] > nums[i - 1]:\n",
    "            decreasing = False\n",
    "\n",
    "    return increasing or decreasing\n"
   ]
  },
  {
   "cell_type": "markdown",
   "id": "39c0bb91-b279-4c47-84b5-8a57bfbf6357",
   "metadata": {},
   "source": [
    "Here's how the function works:\n",
    "\n",
    "1.Initialize two boolean variables increasing and decreasing as True.\n",
    "\n",
    "2.Iterate through the array nums starting from the second element (index 1) using a for loop.\n",
    "\n",
    "3.Check if the current element nums[i] is less than the previous element nums[i - 1]. If so, set increasing to False to indicate that the array is not monotone increasing.\n",
    "\n",
    "4.Check if the current element nums[i] is greater than the previous element nums[i - 1]. If so, set decreasing to False to indicate that the array is not monotone decreasing.\n",
    "\n",
    "5.After iterating through the array, return True if either increasing or decreasing is True, indicating that the array is monotonic. Otherwise, return False.\n",
    "\n",
    "The function checks each element in the array and updates the increasing and decreasing variables accordingly. If either of these variables remains True after iterating through the entire array, it means the array is monotonic.\n",
    "\n",
    "You can use the isMonotonic function like this:"
   ]
  },
  {
   "cell_type": "code",
   "execution_count": 17,
   "id": "1b7ebf74-bf83-4fc2-99bf-4412e6473613",
   "metadata": {},
   "outputs": [
    {
     "name": "stdout",
     "output_type": "stream",
     "text": [
      "True\n"
     ]
    }
   ],
   "source": [
    "nums = [1, 2, 2, 3]\n",
    "is_monotonic = isMonotonic(nums)\n",
    "print(is_monotonic) \n"
   ]
  },
  {
   "cell_type": "markdown",
   "id": "81b8d4c4-5c51-48da-a71d-51782b22164d",
   "metadata": {},
   "source": [
    "In this example, the array [1, 2, 2, 3] is monotone increasing, so the function returns True."
   ]
  },
  {
   "cell_type": "markdown",
   "id": "716db824-ec99-4b4e-aca0-906a2f0c9765",
   "metadata": {},
   "source": [
    "Question-8\n",
    "\n",
    "You are given an integer array nums and an integer k.\n",
    "\n",
    "In one operation, you can choose any index i where 0 <= i < nums.length and change nums[i] to nums[i] + x where x is an integer from the range [-k, k]. You can apply this operation at most once for each index i.\n",
    "\n",
    "The score of nums is the difference between the maximum and minimum elements in nums.\n",
    "\n",
    "Return the minimum score of nums after applying the mentioned operation at most once for each index in it.\n",
    "\n",
    "Ans--"
   ]
  },
  {
   "cell_type": "markdown",
   "id": "408aefcd-3996-4fe3-ae35-7750ae73becb",
   "metadata": {},
   "source": [
    "To find the minimum score of the array nums after applying the mentioned operation at most once for each index, we can try out all possible values of x within the range [-k, k] and calculate the score for each value of x. Then, we can return the minimum score obtained.\n",
    "\n",
    "Here's an example of how you can solve this problem using Python:"
   ]
  },
  {
   "cell_type": "code",
   "execution_count": 18,
   "id": "ed6e7ac7-86c9-42ac-ac17-1286b199f19e",
   "metadata": {},
   "outputs": [],
   "source": [
    "def minimumScore(nums, k):\n",
    "    min_score = float('inf')\n",
    "    n = len(nums)\n",
    "\n",
    "    # Try all possible values of x within the range [-k, k]\n",
    "    for x in range(-k, k + 1):\n",
    "        min_val = float('inf')\n",
    "        max_val = float('-inf')\n",
    "\n",
    "        # Apply the operation to each element and update the minimum and maximum values\n",
    "        for i in range(n):\n",
    "            new_num = nums[i] + x\n",
    "            min_val = min(min_val, new_num)\n",
    "            max_val = max(max_val, new_num)\n",
    "\n",
    "        # Calculate the score for the current value of x\n",
    "        score = max_val - min_val\n",
    "\n",
    "        # Update the minimum score if necessary\n",
    "        min_score = min(min_score, score)\n",
    "\n",
    "    return min_score\n"
   ]
  },
  {
   "cell_type": "markdown",
   "id": "86441375-8e82-4224-a9f7-a71f85643c4b",
   "metadata": {},
   "source": [
    "Here's how the function works:\n",
    "\n",
    "1.Initialize the min_score variable to positive infinity (float('inf')) to keep track of the minimum score.\n",
    "\n",
    "2.Get the length of the array nums and store it in the variable n.\n",
    "\n",
    "3.Iterate over all possible values of x within the range [-k, k] using a for loop.\n",
    "\n",
    "4.Initialize the min_val variable to positive infinity and the max_val variable to negative infinity.\n",
    "\n",
    "5.Iterate over each element in the array and apply the operation nums[i] + x to obtain the new value.\n",
    "\n",
    " *Update the min_val with the minimum of its current value and the new value.\n",
    "\n",
    " *Update the max_val with the maximum of its current value and the new value.\n",
    "\n",
    "6.Calculate the score for the current value of x by subtracting min_val from max_val.\n",
    "\n",
    "7.Update the min_score with the minimum of its current value and the calculated score.\n",
    "\n",
    "8.After trying all possible values of x, return the minimum score.\n",
    "\n",
    "The function tries all possible values of x within the given range and calculates the score for each value. Finally, it returns the minimum score obtained.\n",
    "\n",
    "You can use the minimumScore function like this:"
   ]
  },
  {
   "cell_type": "code",
   "execution_count": 20,
   "id": "2f70fd80-e705-4464-be41-1a14b640e313",
   "metadata": {},
   "outputs": [
    {
     "name": "stdout",
     "output_type": "stream",
     "text": [
      "0\n"
     ]
    }
   ],
   "source": [
    "nums = [1]\n",
    "k = 0\n",
    "min_score = minimumScore(nums, k)\n",
    "print(min_score)  \n"
   ]
  },
  {
   "cell_type": "code",
   "execution_count": null,
   "id": "d045e76d-4b83-4ff2-85f7-b206eef0760d",
   "metadata": {},
   "outputs": [],
   "source": []
  }
 ],
 "metadata": {
  "kernelspec": {
   "display_name": "Python 3 (ipykernel)",
   "language": "python",
   "name": "python3"
  },
  "language_info": {
   "codemirror_mode": {
    "name": "ipython",
    "version": 3
   },
   "file_extension": ".py",
   "mimetype": "text/x-python",
   "name": "python",
   "nbconvert_exporter": "python",
   "pygments_lexer": "ipython3",
   "version": "3.10.8"
  }
 },
 "nbformat": 4,
 "nbformat_minor": 5
}
